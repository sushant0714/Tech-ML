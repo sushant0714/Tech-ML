{
 "cells": [
  {
   "cell_type": "markdown",
   "id": "99ffc0d8",
   "metadata": {},
   "source": [
    "# Question : 1"
   ]
  },
  {
   "cell_type": "code",
   "execution_count": 6,
   "id": "dbe21446",
   "metadata": {},
   "outputs": [
    {
     "name": "stdout",
     "output_type": "stream",
     "text": [
      "Nory was a Catholic because her mother was a Catholic,  \t    and Nory's mother was a Catholic because her father was a Catholic,  \t    and her father was a Catholic because his mother was a Catholic,  \t    or had been.\n",
      "{'Nory': 1, 'was': 6, 'a': 6, 'Catholic': 3, 'because': 3, 'her': 3, 'mother': 3, 'Catholic,': 3, 'and': 2, \"Nory's\": 1, 'father': 2, 'his': 1, 'or': 1, 'had': 1, 'been.': 1}\n"
     ]
    }
   ],
   "source": [
    "s= input()\n",
    "scount={}\n",
    "words=s.split()\n",
    "for i in words:\n",
    "    if i in scount:\n",
    "        scount[i]+=1\n",
    "    else:\n",
    "        scount[i]=1\n",
    "print(scount)"
   ]
  },
  {
   "cell_type": "markdown",
   "id": "14fe1a39",
   "metadata": {},
   "source": [
    "# Question:2"
   ]
  },
  {
   "cell_type": "code",
   "execution_count": 13,
   "id": "8973c296",
   "metadata": {},
   "outputs": [
    {
     "name": "stdout",
     "output_type": "stream",
     "text": [
      "nitin\n",
      "Palindrome\n"
     ]
    }
   ],
   "source": [
    "s=input()\n",
    "srev=s[::-1]\n",
    "if(s==srev):\n",
    "    print(\"Palindrome\")\n",
    "else:\n",
    "    print(\"Not Palindrome\")"
   ]
  },
  {
   "cell_type": "markdown",
   "id": "ec3102bf",
   "metadata": {},
   "source": [
    "# Question:3"
   ]
  },
  {
   "cell_type": "markdown",
   "id": "0769ddda",
   "metadata": {},
   "source": [
    "UNDERFITTING: Whenever the information of data provided to the data model is not of adequate amount i.e. not proper. Simply, things cannot be predicted accurately through the data provided as it has very less features. Such situation is known as Underfitting.\n",
    "\n",
    "\n",
    "OVERFITTING: In some cases the data or the features provided to the model are more than the required. Such situations are known as overfitting of the data.\n",
    "\n",
    "\n",
    "Taking an example:\n",
    "\n",
    "\n",
    "If we are creating a generalised model for determining the given object is ball or not. Taking two cases:\n",
    "\n",
    "Case 1: If we provide only shape(round) as feature to the model. The model will take all round things and classify them as ball whether its a ball or an orange. This case is underfitting.\n",
    "\n",
    "Case 2: Now if we provide all the features like shape,colour, radius etc. Then model will classify only those balls which have radius wual to the given value. Balls having Less or more radius will not be indentified . Hence this situation is underfitting."
   ]
  },
  {
   "cell_type": "markdown",
   "id": "dedd62ca",
   "metadata": {},
   "source": [
    "# Question: 4 "
   ]
  },
  {
   "cell_type": "markdown",
   "id": "7631c5b8",
   "metadata": {},
   "source": [
    "The type of preprocessing done before feeding to a ML Algo are:\n",
    "1. Load the Dataset\n",
    "2. Find the information about the data like number of columns and rows\n",
    "3. Try to analyze the data using the values like what kind of values the are.\n",
    "4. Run commans like info(), describe() that tells you more about the data.\n",
    "5. Find the correlation of data with each other.\n",
    "6. Convert the categorical data using one hot encoding or label encoder.\n",
    "7. Standardaize or normalize the data using libraries like MinMaxScalar, StandardScalar\n",
    "8. Deal with the null values if they are present in the data set using methods like deleting the rows with null value(dropna()), deleting the column with null value(drop(column=\"\")),replace the null value with mean,mode or median(which one fits perfect as per the situation) or Try to predict null values using LinearRegression and Using those values to predict the final target values.\n",
    "9. Visualize the data using visualization libraries like Matplotlib, seaborn etc.\n",
    "10. Try to find relation using graph"
   ]
  },
  {
   "cell_type": "markdown",
   "id": "0e82940d",
   "metadata": {},
   "source": [
    "## Question:5"
   ]
  },
  {
   "cell_type": "markdown",
   "id": "6aabdc9d",
   "metadata": {},
   "source": [
    "Following are the steps in ML Project lifecycle:\n",
    "1. Gathering the dataset\n",
    "2. Load the data set\n",
    "3. Analyze the data - Exploratory Data Analysis\n",
    "4. Cleaning the data\n",
    "5. visualize the data\n",
    "6. Train the model using different algos\n",
    "7. testing of data\n",
    "8. checking score\n",
    "9. finalising the algo with best score"
   ]
  },
  {
   "cell_type": "code",
   "execution_count": null,
   "id": "ce97e03c",
   "metadata": {},
   "outputs": [],
   "source": []
  }
 ],
 "metadata": {
  "kernelspec": {
   "display_name": "Python 3",
   "language": "python",
   "name": "python3"
  },
  "language_info": {
   "codemirror_mode": {
    "name": "ipython",
    "version": 3
   },
   "file_extension": ".py",
   "mimetype": "text/x-python",
   "name": "python",
   "nbconvert_exporter": "python",
   "pygments_lexer": "ipython3",
   "version": "3.8.8"
  }
 },
 "nbformat": 4,
 "nbformat_minor": 5
}
